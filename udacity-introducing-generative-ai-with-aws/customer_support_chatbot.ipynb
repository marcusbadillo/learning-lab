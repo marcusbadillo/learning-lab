{
 "cells": [
  {
   "cell_type": "code",
   "execution_count": null,
   "id": "9611bb2d-691a-47be-a18a-93334051ec14",
   "metadata": {},
   "outputs": [
    {
     "name": "stdout",
     "output_type": "stream",
     "text": [
      "You:  do you have shoes?\n"
     ]
    },
    {
     "name": "stdout",
     "output_type": "stream",
     "text": [
      "Bot: I'm not sure how to respond to that. Can you try asking something else?\n"
     ]
    },
    {
     "name": "stdout",
     "output_type": "stream",
     "text": [
      "You:  quite\n"
     ]
    },
    {
     "name": "stdout",
     "output_type": "stream",
     "text": [
      "Bot: I'm not sure how to respond to that. Can you try asking something else?\n"
     ]
    },
    {
     "name": "stdout",
     "output_type": "stream",
     "text": [
      "You:  quit\n"
     ]
    },
    {
     "name": "stdout",
     "output_type": "stream",
     "text": [
      "Bot: Goodbye! If you have any more questions, we're here to help.\n"
     ]
    }
   ],
   "source": [
    "from chatbot import get_bot_response\n",
    "\n",
    "while True:\n",
    "      user_input = input(\"You: \")\n",
    "      if user_input.lower() in [\"quit\", \"exit\", \"bye\"]:\n",
    "          print(\"Bot: Goodbye! If you have any more questions, we're here to help.\")\n",
    "          break\n",
    "\n",
    "      response = get_bot_response(user_input)\n",
    "      print(f\"Bot: {response}\")"
   ]
  },
  {
   "cell_type": "code",
   "execution_count": null,
   "id": "b1a1a22a",
   "metadata": {},
   "outputs": [
    {
     "name": "stdout",
     "output_type": "stream",
     "text": [
      "You: hi\n",
      "Bot: Hello! Welcome to TechGadget Support. How can I assist you today?\n",
      "\n",
      "You: do you have smartwatches\n",
      "Bot: Yes, we have a variety of smartwatches. You can check them out on our products page.\n",
      "\n",
      "You: what is your return policy\n",
      "Bot: You can return products within 30 days of receipt for a full refund.\n",
      "\n",
      "You: bye\n",
      "Bot: Thank you for visiting TechGadget. If you have more questions, feel free to ask. Goodbye!\n",
      "\n"
     ]
    }
   ],
   "source": [
    "from chatbot import get_bot_response\n",
    "\n",
    "test_inputs = [\n",
    "    \"hi\",\n",
    "    \"do you have smartwatches\",\n",
    "    \"what is your return policy\",\n",
    "    \"bye\"\n",
    "]\n",
    "\n",
    "for user_input in test_inputs:\n",
    "    response = get_bot_response(user_input)\n",
    "    print(f\"You: {user_input}\")\n",
    "    print(f\"Bot: {response}\\n\")\n",
    "\n"
   ]
  }
 ],
 "metadata": {
  "kernelspec": {
   "display_name": "Python (Introducing Generative AI with AWS)",
   "language": "python",
   "name": "introducing-generative-ai-with-aws"
  },
  "language_info": {
   "codemirror_mode": {
    "name": "ipython",
    "version": 3
   },
   "file_extension": ".py",
   "mimetype": "text/x-python",
   "name": "python",
   "nbconvert_exporter": "python",
   "pygments_lexer": "ipython3",
   "version": "3.9.7"
  }
 },
 "nbformat": 4,
 "nbformat_minor": 5
}
